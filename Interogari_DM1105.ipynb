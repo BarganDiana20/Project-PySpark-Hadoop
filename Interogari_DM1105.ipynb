{
 "cells": [
  {
   "cell_type": "markdown",
   "id": "3d32918d-fe68-4c61-8c6a-2c6325b8cc13",
   "metadata": {},
   "source": [
    "# Interogarile din baza de date clinicaStomatologica ce contine 8 tabele\n",
    "#### *Proiect realizat de Bargan Diana-Georgiana, Irimia Emanuela-Nicoletta, Vasilache Vlad-Alexandru, echipa DM1105*\n",
    "#### Tabelele utilizate sunt: pacienti, medici, programari, tratamente, consultatii, istoricMedical, facturi, plati."
   ]
  },
  {
   "cell_type": "code",
   "execution_count": 1,
   "id": "a42a154b-9395-40cf-b549-88e1fe6a2951",
   "metadata": {},
   "outputs": [
    {
     "name": "stderr",
     "output_type": "stream",
     "text": [
      "Setting default log level to \"WARN\".\n",
      "To adjust logging level use sc.setLogLevel(newLevel). For SparkR, use setLogLevel(newLevel).\n",
      "24/05/16 18:23:51 WARN NativeCodeLoader: Unable to load native-hadoop library for your platform... using builtin-java classes where applicable\n"
     ]
    },
    {
     "name": "stdout",
     "output_type": "stream",
     "text": [
      "Welcome to\n",
      "      ____              __\n",
      "     / __/__  ___ _____/ /__\n",
      "    _\\ \\/ _ \\/ _ `/ __/  '_/\n",
      "   /__ / .__/\\_,_/_/ /_/\\_\\   version 3.5.0\n",
      "      /_/\n",
      "\n",
      "Using Python version 3.10.12 (main, Nov 20 2023 15:14:05)\n",
      "Spark context Web UI available at http://master:4040\n",
      "Spark context available as 'sc' (master = spark://master:7077, app id = app-20240516182352-0041).\n",
      "SparkSession available as 'spark'.\n"
     ]
    }
   ],
   "source": [
    "from pyspark.shell import sqlContext\n",
    "from pyspark.sql import SparkSession"
   ]
  },
  {
   "cell_type": "code",
   "execution_count": 2,
   "id": "cb38f791-e9ca-43fa-8400-8c805bfc5514",
   "metadata": {},
   "outputs": [
    {
     "name": "stderr",
     "output_type": "stream",
     "text": [
      "24/05/16 18:23:54 WARN SparkSession: Using an existing Spark session; only runtime SQL configurations will take effect.\n"
     ]
    }
   ],
   "source": [
    "from pyspark.sql import SparkSession\n",
    "import pyspark.sql.functions as F\n",
    "import pyspark.sql.types as T\n",
    "\n",
    "spark = (\n",
    "    SparkSession.builder.appName(\"Python Spark SQL basic example\")\n",
    "    .config(\"spark.executor.memory\", \"1G\")\n",
    "    .config(\"spark.executor.cores\", \"2\")\n",
    "    .config(\"master\", \"spark://master:7077\")\n",
    "    .getOrCreate()\n",
    ")"
   ]
  },
  {
   "cell_type": "code",
   "execution_count": 3,
   "id": "dc23877a-0125-431f-b861-9080a89fd54d",
   "metadata": {},
   "outputs": [
    {
     "name": "stderr",
     "output_type": "stream",
     "text": [
      "                                                                                \r"
     ]
    }
   ],
   "source": [
    "pacienti= spark.read.csv(\"/proiectdm1105/pacienti.csv\", inferSchema=True, header=True)\n",
    "medici= spark.read.csv(\"/proiectdm1105/medici.csv\", inferSchema=True, header=True)\n",
    "programari= spark.read.csv(\"/proiectdm1105/programari.csv\", inferSchema=True, header=True)\n",
    "consultatii= spark.read.csv(\"/proiectdm1105/consultatii.csv\", inferSchema=True, header=True)\n",
    "istoricMedical= spark.read.csv(\"/proiectdm1105/istoricMedical.csv\", inferSchema=True, header=True)\n",
    "tratamente= spark.read.csv(\"/proiectdm1105/tratamente.csv\", inferSchema=True, header=True)\n",
    "facturi= spark.read.csv(\"/proiectdm1105/facturi.csv\", inferSchema=True, header=True)\n",
    "plati= spark.read.csv(\"/proiectdm1105/plati.csv\", inferSchema=True, header=True)"
   ]
  },
  {
   "cell_type": "code",
   "execution_count": 4,
   "id": "c8ebd00b-e538-493f-a3f5-71030ba9f907",
   "metadata": {},
   "outputs": [],
   "source": [
    "pacienti.createOrReplaceTempView('pacienti')\n",
    "medici.createOrReplaceTempView('medici')\n",
    "programari.createOrReplaceTempView('programari')\n",
    "consultatii.createOrReplaceTempView('consultatii')\n",
    "istoricMedical.createOrReplaceTempView('istoricMedical')\n",
    "tratamente.createOrReplaceTempView('tratamente')\n",
    "facturi.createOrReplaceTempView('facturi')\n",
    "plati.createOrReplaceTempView('plati')"
   ]
  },
  {
   "cell_type": "code",
   "execution_count": 5,
   "id": "9015bc55-0dff-4bf8-a4e1-f83b3e1f212e",
   "metadata": {},
   "outputs": [],
   "source": [
    "import pyspark\n",
    "from pyspark.sql.functions import concat, date_format, hour, coalesce, sum, col"
   ]
  },
  {
   "cell_type": "code",
   "execution_count": 6,
   "id": "0beae3e0-a3db-4c1a-b011-9d905338cb1e",
   "metadata": {},
   "outputs": [
    {
     "name": "stdout",
     "output_type": "stream",
     "text": [
      "+----------+----------+----------+-------------+-------------+--------------------------------------+---------+\n",
      "|id_pacient|nume      |prenume   |cnp          |data_nasterii|adresa                                |telefon  |\n",
      "+----------+----------+----------+-------------+-------------+--------------------------------------+---------+\n",
      "|1         |Popescu   |Ana       |2901505228010|1990-05-15   |Str. Florilor nr.10, Iasi             |721232387|\n",
      "|2         |Georgescu |Mihai     |2880318229754|1988-03-18   |Str. Mihai Viteazul nr.30, Iasi       |787455632|\n",
      "|3         |Ionescu   |Ion       |1920608229800|1992-06-08   |Str. Musatini nr.25, Iasi             |721232388|\n",
      "|4         |Unguranu  |Maria     |6090712228173|2009-07-12   |Str. Tabacului nr.13, Iasi            |787455639|\n",
      "|5         |Popa      |Constantin|1234567890123|1990-05-15   |Str. Primaverii nr. 10, Bucuresti     |721123456|\n",
      "|6         |Ionescu   |Vasile    |2345678901234|1985-10-20   |Str. Mihai Eminescu nr. 5, Cluj-Napoca|732456789|\n",
      "|7         |Radu      |Maria     |3456789012345|1978-03-07   |Bd. Independentei nr. 30, Timisoara   |765123456|\n",
      "|8         |Dumitrescu|Andrei    |4567890123456|1995-12-28   |Str. Libertatii nr. 15, Iasi          |740567890|\n",
      "|9         |Georgescu |Elena     |5678901234567|1980-08-03   |Bd. Unirii nr. 25, Constanta          |711345678|\n",
      "|10        |Ionescu   |Mihai     |1900101201234|1990-01-01   |Str. Mihai Viteazu nr. 5, Iasi        |721123256|\n",
      "|11        |Popa      |Maria     |2920402356789|1992-04-02   |Str. Crinilor nr. 7, Iasi             |721987654|\n",
      "+----------+----------+----------+-------------+-------------+--------------------------------------+---------+\n",
      "\n"
     ]
    }
   ],
   "source": [
    "#Vizualizare tabela pacienti\n",
    "pacienti.show(truncate = False)"
   ]
  },
  {
   "cell_type": "markdown",
   "id": "32c1d8d7-6f77-49ee-b39f-2dcf66678eaf",
   "metadata": {},
   "source": [
    "## __Interogarile de la 1-4 sunt realizate de Bargan Diana Georgiana__"
   ]
  },
  {
   "cell_type": "markdown",
   "id": "45c8b6e2-5e2f-44ca-91f1-0cdc07e6eda8",
   "metadata": {},
   "source": [
    "### 1. Afisati toate programarile ce au avut loc intre orele 10:00 si 13:30 pe data de 22.03.2024 (selectand numele pacientilor, medicul la care au programare, ora si tipul de programare.)"
   ]
  },
  {
   "cell_type": "code",
   "execution_count": 7,
   "id": "e62ed01f-91b3-4a5c-a1b8-8723405301e2",
   "metadata": {},
   "outputs": [
    {
     "name": "stdout",
     "output_type": "stream",
     "text": [
      "+---------------+---------------------+--------------+-----------------------+\n",
      "|nume_pacient   |nume_medic           |ora_programare|tip_tratament          |\n",
      "+---------------+---------------------+--------------+-----------------------+\n",
      "|Popescu Ana    |Morari Alexandru     |11:00         |Extractie dentara      |\n",
      "|Ionescu Ion    |Arion Andreea-Claudia|12:30         |Tratament canal        |\n",
      "|Popa Constantin|Axinte Alina         |11:00         |Tratament carie dentara|\n",
      "|Ionescu Mihai  |Axinte Alina         |13:00         |Consultatie            |\n",
      "+---------------+---------------------+--------------+-----------------------+\n",
      "\n"
     ]
    },
    {
     "name": "stderr",
     "output_type": "stream",
     "text": [
      "                                                                                \r"
     ]
    }
   ],
   "source": [
    "query1 = spark.sql(\"\"\"Select concat(nume, ' ', prenume) AS nume_pacient, concat(nume_medic, ' ', prenume_medic) AS nume_medic,\\\n",
    "                    date_format(programari.ora_programare, 'HH:mm') AS ora_programare, tip_tratament\n",
    "             from programari \\\n",
    "             inner join pacienti ON programari.id_pacient = pacienti.id_pacient \\\n",
    "             inner join medici ON programari.id_medic = medici.id_medic \\\n",
    "             where date(programari.data_programare) == date('2024-03-22') AND\n",
    "                     hour(programari.ora_programare) BETWEEN 10 AND 13 \"\"\")\n",
    "query1.show(truncate = False)"
   ]
  },
  {
   "cell_type": "markdown",
   "id": "fef7fe8d-6cea-41e2-acd8-4a73ee850e7e",
   "metadata": {},
   "source": [
    "### Salvare rezultat obtinut la interogarea nr.1, in fisierul query1_results.csv, in directorul interogari."
   ]
  },
  {
   "cell_type": "code",
   "execution_count": 8,
   "id": "f092522e-6b3a-4d95-9189-f6388369abf5",
   "metadata": {},
   "outputs": [
    {
     "name": "stderr",
     "output_type": "stream",
     "text": [
      "                                                                                \r"
     ]
    }
   ],
   "source": [
    "output_directory = \"/proiectdm1105/interogari/\"\n",
    "output_filename = \"query1_results.csv\"\n",
    "\n",
    "# Scrierea rezultatelor în fișierul CSV în HDFS\n",
    "query1.write.mode(\"overwrite\").format(\"csv\").save(output_directory + \"/\" + output_filename, header=True)"
   ]
  },
  {
   "cell_type": "markdown",
   "id": "f1101976-7b6a-48b8-a1c1-46068d025718",
   "metadata": {},
   "source": [
    "### Varianta 1, cu urmatoarea comanda putem vedea in linia de comanda continutul rezultatului din fisierul salvat\n",
    "hdfs dfs -cat /proiectdm1105/interogari/query1_results.csv/part-00000-94e38ee3-2d3d-4b7b-a392-6b28bcbbbf28-c000.csv\n",
    "### Varianta 2, ar fi sa citim fisierul csv creat anterior si sa il afisam in spark asa cum se observa in codul urmator."
   ]
  },
  {
   "cell_type": "code",
   "execution_count": 8,
   "id": "7c0edf09-c46d-4590-9cb1-de7026aa6a55",
   "metadata": {},
   "outputs": [
    {
     "name": "stdout",
     "output_type": "stream",
     "text": [
      "+---------------+--------------------+-------------------+--------------------+\n",
      "|   nume_pacient|          nume_medic|     ora_programare|       tip_tratament|\n",
      "+---------------+--------------------+-------------------+--------------------+\n",
      "|    Popescu Ana|    Morari Alexandru|2024-05-16 11:00:00|   Extractie dentara|\n",
      "|    Ionescu Ion|Arion Andreea-Cla...|2024-05-16 12:30:00|     Tratament canal|\n",
      "|Popa Constantin|        Axinte Alina|2024-05-16 11:00:00|Tratament carie d...|\n",
      "|  Ionescu Mihai|        Axinte Alina|2024-05-16 13:00:00|         Consultatie|\n",
      "+---------------+--------------------+-------------------+--------------------+\n",
      "\n",
      "None\n"
     ]
    }
   ],
   "source": [
    "df_query1 = spark.read.csv(\"/proiectdm1105/interogari/query1_results.csv/part-00000-94e38ee3-2d3d-4b7b-a392-6b28bcbbbf28-c000.csv\", inferSchema=True, header=True)\n",
    "# Afisare continut.\n",
    "print(df_query1.show())"
   ]
  },
  {
   "cell_type": "markdown",
   "id": "0528ef50-b01b-4596-9a0c-8b872cf44eee",
   "metadata": {},
   "source": [
    "### 2. Care sunt facturile ce nu au fost incasate integral si ce suma mai trebuie de incasat? "
   ]
  },
  {
   "cell_type": "code",
   "execution_count": 9,
   "id": "8c4d768d-4716-4b09-8830-21c52a5a1ba7",
   "metadata": {},
   "outputs": [
    {
     "name": "stderr",
     "output_type": "stream",
     "text": [
      "                                                                                \r"
     ]
    },
    {
     "name": "stdout",
     "output_type": "stream",
     "text": [
      "+----------+---------------+\n",
      "|id_factura|rest_de_incasat|\n",
      "+----------+---------------+\n",
      "|111       |750.0          |\n",
      "|113       |100.0          |\n",
      "|121       |1500.0         |\n",
      "+----------+---------------+\n",
      "\n"
     ]
    }
   ],
   "source": [
    "spark.sql(\"\"\"Select facturi.id_factura, \n",
    "            facturi.total_factura - coalesce((Select sum(plati.suma) from plati where plati.id_factura = facturi.id_factura), 0) AS rest_de_incasat\n",
    "            from facturi  \n",
    "            where facturi.total_factura - coalesce(\n",
    "                          (Select sum(plati.suma)\n",
    "                           from plati \n",
    "                           where plati.id_factura = facturi.id_factura), 0) > 0 \"\"\").show(truncate=False)"
   ]
  },
  {
   "cell_type": "markdown",
   "id": "045a2a0e-1c43-4a2c-a262-de0c8236b87f",
   "metadata": {},
   "source": [
    "### 3. Care sunt pacientii carora li s-au emis facturi in aceeasi zi  in care a fost emisa factura nr.103 ? "
   ]
  },
  {
   "cell_type": "markdown",
   "id": "529e6d81-f39c-4088-bcb6-d2296f388e1c",
   "metadata": {},
   "source": [
    "* #### Solutia 1"
   ]
  },
  {
   "cell_type": "code",
   "execution_count": 10,
   "id": "ebba8e3c-17f1-491d-99bc-0eb727054c34",
   "metadata": {},
   "outputs": [
    {
     "name": "stdout",
     "output_type": "stream",
     "text": [
      "+---------------+\n",
      "|nume_pacient   |\n",
      "+---------------+\n",
      "|Popescu Ana    |\n",
      "|Popa Constantin|\n",
      "|Ionescu Mihai  |\n",
      "+---------------+\n",
      "\n"
     ]
    }
   ],
   "source": [
    "spark.sql(\"\"\"Select concat(nume, ' ', prenume) AS nume_pacient from pacienti \\\n",
    "             inner join facturi ON pacienti.id_pacient = facturi.id_pacient \\\n",
    "             where data_emitere IN ( Select data_emitere \n",
    "                                     from facturi\n",
    "                                     where id_factura = 103\n",
    "                                   ) AND pacienti.id_pacient != (\n",
    "                                          Select id_pacient from facturi where id_factura = 103 ) \"\"\").show(truncate = False)"
   ]
  },
  {
   "cell_type": "markdown",
   "id": "73487dff-b897-43fc-ae57-d571b2427ea9",
   "metadata": {},
   "source": [
    "* #### Solutia 2: cu doua niveluri de subconsultari (adica subconsultari in clauza WHERE operatorul IN)"
   ]
  },
  {
   "cell_type": "code",
   "execution_count": 11,
   "id": "27a7b3d3-8d4f-4fec-a141-99f677895dfc",
   "metadata": {},
   "outputs": [
    {
     "name": "stdout",
     "output_type": "stream",
     "text": [
      "+----------+---------------+\n",
      "|id_pacient|nume_pacient   |\n",
      "+----------+---------------+\n",
      "|1         |Popescu Ana    |\n",
      "|5         |Popa Constantin|\n",
      "|10        |Ionescu Mihai  |\n",
      "+----------+---------------+\n",
      "\n"
     ]
    }
   ],
   "source": [
    "spark.sql(\"\"\" Select id_pacient, concat(nume, ' ', prenume) AS nume_pacient \n",
    "              from pacienti \n",
    "              where id_pacient IN ( Select id_pacient from facturi \n",
    "                                    where data_emitere IN (  \n",
    "                                                 Select data_emitere from facturi\n",
    "                                                 where id_factura = 103\n",
    "                                                 )\n",
    "                                ) AND id_pacient != (\n",
    "                                            Select id_pacient from facturi \n",
    "                                            where id_factura = 103) \"\"\").show(truncate = False)                                                                              "
   ]
  },
  {
   "cell_type": "markdown",
   "id": "48cb2930-5abc-4a98-813b-043a304855c2",
   "metadata": {},
   "source": [
    "### 4. Care este pretul mediu al tratamentelor efectuate de un medic in functie de specializare ?"
   ]
  },
  {
   "cell_type": "code",
   "execution_count": 12,
   "id": "15d3c260-6113-4228-a801-94cab0823198",
   "metadata": {},
   "outputs": [
    {
     "name": "stdout",
     "output_type": "stream",
     "text": [
      "+---------------------+-------------------------+--------------------+\n",
      "|nume_medic           |specializare             |pret_mediu_tratament|\n",
      "+---------------------+-------------------------+--------------------+\n",
      "|Axinte Alina         |Stomatologie generala    |145.0               |\n",
      "|Tvigun Leia          |Ortodont                 |1350.0              |\n",
      "|Morari Alexandru     |Chirurgie dento-alveolara|587.5               |\n",
      "|Arion Andreea-Claudia|Endodontist              |450.0               |\n",
      "+---------------------+-------------------------+--------------------+\n",
      "\n"
     ]
    }
   ],
   "source": [
    "query4 = spark.sql(\"\"\"Select concat(m.nume_medic,' ', m.prenume_medic) AS nume_medic, m.specializare, \\\n",
    "                    round(AVG(t.cost), 1) AS pret_mediu_tratament\n",
    "             from medici m\n",
    "             inner join tratamente t ON m.specializare = t.specializare\n",
    "             group by m.nume_medic, m.prenume_medic, m.specializare \"\"\")\n",
    "query4.show(truncate=False)"
   ]
  },
  {
   "cell_type": "markdown",
   "id": "749107d1-1a3d-47e3-8cd1-621b62fc7ba7",
   "metadata": {},
   "source": [
    "### Salvare rezultat obtinut la interogarea nr.4, in fisierul query4_results - format fisier Parquet, in directorul interogari."
   ]
  },
  {
   "cell_type": "code",
   "execution_count": 14,
   "id": "725542a2-a9e4-412a-b259-c11fc949d166",
   "metadata": {},
   "outputs": [
    {
     "name": "stderr",
     "output_type": "stream",
     "text": [
      "                                                                                \r"
     ]
    }
   ],
   "source": [
    "output_directory = \"/proiectdm1105/interogari/\"\n",
    "output_filename = \"query4_results\"\n",
    "# Scrierea rezultatelor în fișier de tip Parquet în HDFS\n",
    "query4.write.mode(\"overwrite\").parquet(output_directory + output_filename)"
   ]
  },
  {
   "cell_type": "markdown",
   "id": "36cc31d2-5908-4b1b-bf5c-a17547b6fa3a",
   "metadata": {},
   "source": [
    "### Citire fisier- format Parquet cu rezultatul interogarii nr. 4 salvat in HDFS"
   ]
  },
  {
   "cell_type": "code",
   "execution_count": 13,
   "id": "0121316d-ddb3-4d61-a5f7-6584a5884cb9",
   "metadata": {
    "scrolled": true
   },
   "outputs": [
    {
     "name": "stderr",
     "output_type": "stream",
     "text": [
      "[Stage 40:>                                                         (0 + 1) / 1]\r"
     ]
    },
    {
     "name": "stdout",
     "output_type": "stream",
     "text": [
      "+---------------------+-------------------------+--------------------+\n",
      "|nume_medic           |specializare             |pret_mediu_tratament|\n",
      "+---------------------+-------------------------+--------------------+\n",
      "|Axinte Alina         |Stomatologie generala    |145.0               |\n",
      "|Tvigun Leia          |Ortodont                 |1350.0              |\n",
      "|Morari Alexandru     |Chirurgie dento-alveolara|587.5               |\n",
      "|Arion Andreea-Claudia|Endodontist              |450.0               |\n",
      "+---------------------+-------------------------+--------------------+\n",
      "\n",
      "None\n"
     ]
    },
    {
     "name": "stderr",
     "output_type": "stream",
     "text": [
      "                                                                                \r"
     ]
    }
   ],
   "source": [
    "df_parquet = spark.read.format(\"parquet\").load(\"/proiectdm1105/interogari/query4_results\")\n",
    "# Afisare continut.\n",
    "print(df_parquet.show(truncate = False))"
   ]
  },
  {
   "cell_type": "markdown",
   "id": "7d549e0a-8cc1-472f-a626-46e0dd8059c0",
   "metadata": {},
   "source": [
    "## __Interogarile de la 5-9 sunt realizate de Irimia Nicoletta__"
   ]
  },
  {
   "cell_type": "markdown",
   "id": "a5ef6709-656f-491e-9861-43cc6e656a03",
   "metadata": {},
   "source": [
    "### 5.\tAflati toate programarile de consultatii(data si ora) efectuate de medicul ,,Axinte Alina\"."
   ]
  },
  {
   "cell_type": "code",
   "execution_count": 14,
   "id": "888ef830-a8fa-4160-a35a-8e4ac1b2125d",
   "metadata": {},
   "outputs": [
    {
     "name": "stdout",
     "output_type": "stream",
     "text": [
      "+---------------+-------------------+\n",
      "|data_programare|ora_programare     |\n",
      "+---------------+-------------------+\n",
      "|2024-03-21     |2024-05-16 11:00:00|\n",
      "|2024-03-21     |2024-05-16 10:00:00|\n",
      "|2024-03-17     |2024-05-16 11:00:00|\n",
      "|2024-03-22     |2024-05-16 13:00:00|\n",
      "+---------------+-------------------+\n",
      "\n"
     ]
    }
   ],
   "source": [
    "query5 = spark.sql(\"\"\"\n",
    "   SELECT pr.data_programare, pr.ora_programare\n",
    "FROM programari pr\n",
    "JOIN medici md ON pr.id_medic = md.id_medic\n",
    "WHERE md.nume_medic = 'Axinte' AND md.prenume_medic = 'Alina' AND pr.tip_tratament= 'Consultatie';\n",
    "\"\"\")\n",
    "query5.show(truncate=False)"
   ]
  },
  {
   "cell_type": "markdown",
   "id": "464084bb-a62c-4093-b181-c81497c673c6",
   "metadata": {},
   "source": [
    "### 6.Sa se afiseze top 5 tratamente cu cel mai mare cost și să se specifice numele medicului  care efectuează fiecare dintre aceste tratamente."
   ]
  },
  {
   "cell_type": "code",
   "execution_count": 15,
   "id": "aee34c10-089b-4a59-9646-69f171e73330",
   "metadata": {},
   "outputs": [
    {
     "name": "stdout",
     "output_type": "stream",
     "text": [
      "+------------+--------------------------------------------------------------------+------+----------+\n",
      "|id_tratament|descriere                                                           |cost  |nume_medic|\n",
      "+------------+--------------------------------------------------------------------+------+----------+\n",
      "|2001        |Instalare aparat dentar fix pe ambele arcade                        |3000.0|Tvigun    |\n",
      "|2002        |Instalare aparat dentar fix pe o singura arcada                     |1500.0|Tvigun    |\n",
      "|3004        |Implant dentar                                                      |1500.0|Morari    |\n",
      "|4001        |Tratament endodontic dinte monoradicular(include obturatia de canal)|850.0 |Arion     |\n",
      "|2004        |Tratament ortodontic                                                |800.0 |Tvigun    |\n",
      "+------------+--------------------------------------------------------------------+------+----------+\n",
      "\n"
     ]
    }
   ],
   "source": [
    "query6=spark.sql(\"\"\"\n",
    "WITH Top5Tratamente AS (\n",
    "    SELECT\n",
    "        t.id_tratament,\n",
    "        t.descriere,\n",
    "        t.cost,\n",
    "        t.specializare,\n",
    "        ROW_NUMBER() OVER (PARTITION BY NULL ORDER BY t.cost DESC) AS ranking\n",
    "    FROM\n",
    "        tratamente t\n",
    ")\n",
    "SELECT\n",
    "    id_tratament, descriere, cost, nume_medic\n",
    "FROM Top5Tratamente \n",
    "JOIN medici on Top5Tratamente.specializare = medici.specializare\n",
    "WHERE\n",
    "    ranking <= 5\n",
    "\torder by cost desc \"\"\")\n",
    "query6.show(truncate=False)"
   ]
  },
  {
   "cell_type": "markdown",
   "id": "49bb74f7-f9a7-4710-9804-a79bd3e48086",
   "metadata": {},
   "source": [
    "### Salvare rezultat obtinut la interogarea nr.6, in fisierul query6_results - format fisier ORC, in directorul interogari."
   ]
  },
  {
   "cell_type": "code",
   "execution_count": 17,
   "id": "70953395-1c3f-4058-a526-5f26a46e0323",
   "metadata": {},
   "outputs": [
    {
     "name": "stderr",
     "output_type": "stream",
     "text": [
      "                                                                                \r"
     ]
    }
   ],
   "source": [
    "output_directory = \"/proiectdm1105/interogari/\"\n",
    "output_file = \"query6_results.orc\"\n",
    "# Scrierea rezultatelor în fișier de tip ORC în HDFS\n",
    "query6.write.mode(\"overwrite\").format(\"orc\").save(output_directory + output_file)"
   ]
  },
  {
   "cell_type": "markdown",
   "id": "78c518ca-2f09-4bc1-85bb-982f2b152c2e",
   "metadata": {},
   "source": [
    "### Citire fisier- format ORC cu rezultatul interogarii nr. 6 salvat in HDFS"
   ]
  },
  {
   "cell_type": "code",
   "execution_count": 16,
   "id": "3ecc186f-a0f8-4335-82d5-7783f765d2e7",
   "metadata": {},
   "outputs": [
    {
     "name": "stderr",
     "output_type": "stream",
     "text": [
      "[Stage 47:>                                                         (0 + 1) / 1]\r"
     ]
    },
    {
     "name": "stdout",
     "output_type": "stream",
     "text": [
      "+------------+--------------------------------------------------------------------+------+----------+\n",
      "|id_tratament|descriere                                                           |cost  |nume_medic|\n",
      "+------------+--------------------------------------------------------------------+------+----------+\n",
      "|2001        |Instalare aparat dentar fix pe ambele arcade                        |3000.0|Tvigun    |\n",
      "|2002        |Instalare aparat dentar fix pe o singura arcada                     |1500.0|Tvigun    |\n",
      "|3004        |Implant dentar                                                      |1500.0|Morari    |\n",
      "|4001        |Tratament endodontic dinte monoradicular(include obturatia de canal)|850.0 |Arion     |\n",
      "|2004        |Tratament ortodontic                                                |800.0 |Tvigun    |\n",
      "+------------+--------------------------------------------------------------------+------+----------+\n",
      "\n",
      "None\n"
     ]
    },
    {
     "name": "stderr",
     "output_type": "stream",
     "text": [
      "                                                                                \r"
     ]
    }
   ],
   "source": [
    "df_orc = spark.read.format(\"orc\").load(\"/proiectdm1105/interogari/query6_results.orc\")\n",
    "# Afisare continut.\n",
    "print(df_orc.show(truncate=False))"
   ]
  },
  {
   "cell_type": "markdown",
   "id": "2aff513e-2748-4d63-9455-83677cd1bf36",
   "metadata": {},
   "source": [
    "### 7. Care este numărul total de consultații pentru care diagnosticul contine cuvantul \"Carie dentara” ."
   ]
  },
  {
   "cell_type": "code",
   "execution_count": 17,
   "id": "aa3ac37b-bc9a-487b-b08d-1ccee094cbbe",
   "metadata": {},
   "outputs": [
    {
     "name": "stdout",
     "output_type": "stream",
     "text": [
      "+------------------------------------+\n",
      "|consultatii_diagnostic_carie_dentara|\n",
      "+------------------------------------+\n",
      "|3                                   |\n",
      "+------------------------------------+\n",
      "\n"
     ]
    }
   ],
   "source": [
    "query7 = spark.sql(\"\"\" SELECT\n",
    "    COUNT(*)AS consultatii_diagnostic_carie_dentara\n",
    "FROM \n",
    "    consultatii\n",
    "WHERE \n",
    "    diagnostic LIKE '%Carie dentara%'; \"\"\")\n",
    "\n",
    "query7.show(truncate=False)"
   ]
  },
  {
   "cell_type": "markdown",
   "id": "fc3dcecb-c549-4d60-a646-1b9a2ba0707f",
   "metadata": {},
   "source": [
    "### 8.Sa se calculeze incasarile facturilor saptamanale."
   ]
  },
  {
   "cell_type": "code",
   "execution_count": 18,
   "id": "04cf172b-e4c2-4943-b5a7-c4cdb50c644f",
   "metadata": {},
   "outputs": [
    {
     "name": "stdout",
     "output_type": "stream",
     "text": [
      "+-------------------+--------------------+\n",
      "|start_of_week      |incasari_saptamanale|\n",
      "+-------------------+--------------------+\n",
      "|2024-03-11 00:00:00|50.0                |\n",
      "|2024-03-18 00:00:00|4300.0              |\n",
      "|2024-03-25 00:00:00|6000.0              |\n",
      "+-------------------+--------------------+\n",
      "\n"
     ]
    }
   ],
   "source": [
    "query8 = spark.sql(\"\"\"\n",
    "SELECT DATE_TRUNC('week', data_emitere) AS start_of_week, SUM(total_factura) AS incasari_saptamanale\n",
    "FROM facturi\n",
    "GROUP BY DATE_TRUNC('week', data_emitere)\n",
    "ORDER BY start_of_week;\n",
    "\"\"\")\n",
    "query8.show(truncate=False)"
   ]
  },
  {
   "cell_type": "markdown",
   "id": "2b872c4b-005d-4695-ab17-823280a404d4",
   "metadata": {},
   "source": [
    "### 9. Afisati toti pacientii care au avut plati intre 200 de lei si 1000 lei în total."
   ]
  },
  {
   "cell_type": "code",
   "execution_count": 19,
   "id": "b8c447d3-9dbe-49f4-be51-45414e780f8a",
   "metadata": {},
   "outputs": [
    {
     "name": "stdout",
     "output_type": "stream",
     "text": [
      "+----------+----------+----------+-----------+\n",
      "|id_pacient|nume      |prenume   |suma_totala|\n",
      "+----------+----------+----------+-----------+\n",
      "|1         |Popescu   |Ana       |350.0      |\n",
      "|2         |Georgescu |Mihai     |200.0      |\n",
      "|3         |Ionescu   |Ion       |900.0      |\n",
      "|5         |Popa      |Constantin|200.0      |\n",
      "|6         |Ionescu   |Vasile    |850.0      |\n",
      "|7         |Radu      |Maria     |210.0      |\n",
      "|8         |Dumitrescu|Andrei    |360.0      |\n",
      "|10        |Ionescu   |Mihai     |200.0      |\n",
      "+----------+----------+----------+-----------+\n",
      "\n"
     ]
    }
   ],
   "source": [
    "#definire anterioara a query-ului \n",
    "query = \"\"\"\n",
    "SELECT p.id_pacient, p.nume, p.prenume, SUM(pl.suma) AS suma_totala\n",
    "FROM pacienti p\n",
    "    JOIN facturi f ON p.id_pacient = f.id_pacient\n",
    "    JOIN plati pl ON f.id_factura = pl.id_factura\n",
    "GROUP BY\n",
    "    p.id_pacient, p.nume, p.prenume\n",
    "HAVING\n",
    "    SUM(pl.suma) BETWEEN 200 AND 1000\n",
    "ORDER BY\n",
    "    p.id_pacient\n",
    "\"\"\"\n",
    "#memorare rezultat \n",
    "result = spark.sql(query)\n",
    "#afisare rezultat\n",
    "result.show(truncate=False)"
   ]
  },
  {
   "cell_type": "markdown",
   "id": "a488b619-729c-439a-bc12-55ed44c580f8",
   "metadata": {},
   "source": [
    "## __Interogarile de la 10-13 sunt realizate de Vasilache Vlad__"
   ]
  },
  {
   "cell_type": "markdown",
   "id": "7d6793d0-91a4-489b-8ba4-a9607bd24ee8",
   "metadata": {},
   "source": [
    "### 10. Extrageți ora programata la Consultatie pentru un anumit pacient, pe baza CNP-ului: 6090712228173."
   ]
  },
  {
   "cell_type": "code",
   "execution_count": 24,
   "id": "bcf8df6f-bc77-4fbf-95b7-5c41d5878dc3",
   "metadata": {},
   "outputs": [
    {
     "name": "stdout",
     "output_type": "stream",
     "text": [
      "+--------------+\n",
      "|ora_programare|\n",
      "+--------------+\n",
      "|11:30         |\n",
      "+--------------+\n",
      "\n"
     ]
    }
   ],
   "source": [
    "query10 = spark.sql(\"\"\"\n",
    "SELECT date_format(p.ora_programare,'HH:mm') AS ora_programare\n",
    "FROM programari p\n",
    "JOIN pacienti pac ON p.id_pacient = pac.id_pacient\n",
    "WHERE pac.CNP = '6090712228173' AND p.tip_tratament = 'Consultatie'\n",
    "\"\"\")\n",
    "query10.show(truncate=False)"
   ]
  },
  {
   "cell_type": "markdown",
   "id": "b7068b4d-8b62-47a8-a8fc-42d6bbebf362",
   "metadata": {},
   "source": [
    "### 11. Extrageti toate programările pentru pacientul cu CNP-ul 2704091234568"
   ]
  },
  {
   "cell_type": "code",
   "execution_count": 27,
   "id": "b1588335-65a1-4064-8175-b7f74754cad6",
   "metadata": {},
   "outputs": [
    {
     "name": "stdout",
     "output_type": "stream",
     "text": [
      "+-------------+---------------+--------------+-----------------------+\n",
      "|id_programare|data_programare|ora_programare|tip_tratament          |\n",
      "+-------------+---------------+--------------+-----------------------+\n",
      "|4            |2024-03-21     |11:30         |Consultatie            |\n",
      "|8            |2024-03-25     |11:00         |Instalare aparat dentar|\n",
      "+-------------+---------------+--------------+-----------------------+\n",
      "\n"
     ]
    }
   ],
   "source": [
    "query11 = spark.sql(\"\"\"\n",
    "SELECT id_programare, data_programare, \n",
    "       date_format(ora_programare,'HH:mm') AS ora_programare, tip_tratament\n",
    "FROM programari \n",
    "WHERE id_pacient = (SELECT id_pacient \n",
    "\t\t\t\t\tFROM pacienti\n",
    "\t\t\t\t\tWHERE CNP = '6090712228173')\n",
    "\"\"\")\n",
    "query11.show(truncate=False)"
   ]
  },
  {
   "cell_type": "markdown",
   "id": "727f84d5-a091-4349-9759-820b312a02ed",
   "metadata": {},
   "source": [
    "### 12. Afișează lista cu programarile între orele 11:00 si 12:30 pentru toate zilele."
   ]
  },
  {
   "cell_type": "code",
   "execution_count": 29,
   "id": "a0ff0689-e2e6-4d5c-a1a0-b54ceff498c4",
   "metadata": {},
   "outputs": [
    {
     "name": "stdout",
     "output_type": "stream",
     "text": [
      "+---------------+---------------------+---------------+--------------+-----------------------+\n",
      "|nume_pacient   |nume_medic           |data_programare|ora_programare|tip_tratament          |\n",
      "+---------------+---------------------+---------------+--------------+-----------------------+\n",
      "|Georgescu Mihai|Axinte Alina         |2024-03-21     |11:00         |Consultatie            |\n",
      "|Unguranu Maria |Tvigun Leia          |2024-03-21     |11:30         |Consultatie            |\n",
      "|Popescu Ana    |Morari Alexandru     |2024-03-22     |11:00         |Extractie dentara      |\n",
      "|Ionescu Ion    |Arion Andreea-Claudia|2024-03-22     |12:30         |Tratament canal        |\n",
      "|Unguranu Maria |Tvigun Leia          |2024-03-25     |11:00         |Instalare aparat dentar|\n",
      "|Popa Constantin|Axinte Alina         |2024-03-22     |11:00         |Tratament carie dentara|\n",
      "|Georgescu Elena|Axinte Alina         |2024-03-17     |11:00         |Consultatie            |\n",
      "|Georgescu Elena|Axinte Alina         |2024-03-18     |12:00         |Tratament de igienizare|\n",
      "+---------------+---------------------+---------------+--------------+-----------------------+\n",
      "\n"
     ]
    }
   ],
   "source": [
    "query12 = spark.sql(\"\"\"\n",
    "SELECT CONCAT(pac.nume, ' ', pac.prenume) AS nume_pacient,\n",
    "       CONCAT(med.nume_medic, ' ', med.prenume_medic) AS nume_medic,\n",
    "       p.data_programare,\n",
    "       date_format(p.ora_programare,'HH:mm') AS ora_programare,\n",
    "       p.tip_tratament\n",
    "FROM programari p\n",
    "INNER JOIN pacienti pac ON p.id_pacient = pac.id_pacient\n",
    "INNER JOIN medici med ON p.id_medic = med.id_medic\n",
    "WHERE p.ora_programare BETWEEN '11:00' AND '12:30';\n",
    "\"\"\")\n",
    "query12.show(truncate=False)"
   ]
  },
  {
   "cell_type": "markdown",
   "id": "7515dcfc-d214-43f0-8566-454581a7567e",
   "metadata": {},
   "source": [
    "### 13.Care sunt zilele in care s-au intocmit (emis) cel puțin 3 facturi ?"
   ]
  },
  {
   "cell_type": "code",
   "execution_count": 13,
   "id": "9fb6e2f1-b7dc-4de6-8acf-ca482ff17e8e",
   "metadata": {},
   "outputs": [
    {
     "name": "stderr",
     "output_type": "stream",
     "text": [
      "[Stage 26:>                                                         (0 + 1) / 1]\r"
     ]
    },
    {
     "name": "stdout",
     "output_type": "stream",
     "text": [
      "+------------+-------------+\n",
      "|data_emitere|numar_facturi|\n",
      "+------------+-------------+\n",
      "|2024-03-23  |3            |\n",
      "|2024-03-21  |6            |\n",
      "|2024-03-22  |4            |\n",
      "|2024-03-25  |3            |\n",
      "+------------+-------------+\n",
      "\n"
     ]
    },
    {
     "name": "stderr",
     "output_type": "stream",
     "text": [
      "                                                                                \r"
     ]
    }
   ],
   "source": [
    "query13 = spark.sql(\"\"\"\n",
    "SELECT data_emitere, COUNT(*) AS numar_facturi\n",
    "FROM facturi\n",
    "GROUP BY data_emitere\n",
    "HAVING COUNT(*) >= 3;\n",
    "\"\"\")\n",
    "query13.show(truncate=False)"
   ]
  },
  {
   "cell_type": "markdown",
   "id": "be526cb9-e94d-487d-a663-41ab73cf4686",
   "metadata": {},
   "source": [
    "### Salvarea rezultatului obtinut la interogarea nr.12, in fisier format fisier ORC, in directorul interogari."
   ]
  },
  {
   "cell_type": "code",
   "execution_count": 30,
   "id": "7bbfe2af-36b9-486e-8993-8078475d8973",
   "metadata": {},
   "outputs": [
    {
     "name": "stderr",
     "output_type": "stream",
     "text": [
      "                                                                                \r"
     ]
    }
   ],
   "source": [
    "output_directory = \"/proiectdm1105/interogari/\"\n",
    "output_file = \"query12_results.orc\"\n",
    "# Scrierea rezultatelor în fișier de tip ORC în HDFS\n",
    "query12.write.mode(\"overwrite\").format(\"orc\").save(output_directory + output_file)"
   ]
  },
  {
   "cell_type": "markdown",
   "id": "ddb1fe89-efaf-4725-ac92-4e2c740e7b19",
   "metadata": {},
   "source": [
    "### Citire fisier format ORC cu rezultatul interogarii nr. 12 salvat in HDFS"
   ]
  },
  {
   "cell_type": "code",
   "execution_count": 31,
   "id": "aba103e6-312a-420f-9d13-73520592304f",
   "metadata": {},
   "outputs": [
    {
     "name": "stdout",
     "output_type": "stream",
     "text": [
      "+---------------+---------------------+---------------+--------------+-----------------------+\n",
      "|nume_pacient   |nume_medic           |data_programare|ora_programare|tip_tratament          |\n",
      "+---------------+---------------------+---------------+--------------+-----------------------+\n",
      "|Georgescu Mihai|Axinte Alina         |2024-03-21     |11:00         |Consultatie            |\n",
      "|Unguranu Maria |Tvigun Leia          |2024-03-21     |11:30         |Consultatie            |\n",
      "|Popescu Ana    |Morari Alexandru     |2024-03-22     |11:00         |Extractie dentara      |\n",
      "|Ionescu Ion    |Arion Andreea-Claudia|2024-03-22     |12:30         |Tratament canal        |\n",
      "|Unguranu Maria |Tvigun Leia          |2024-03-25     |11:00         |Instalare aparat dentar|\n",
      "|Popa Constantin|Axinte Alina         |2024-03-22     |11:00         |Tratament carie dentara|\n",
      "|Georgescu Elena|Axinte Alina         |2024-03-17     |11:00         |Consultatie            |\n",
      "|Georgescu Elena|Axinte Alina         |2024-03-18     |12:00         |Tratament de igienizare|\n",
      "+---------------+---------------------+---------------+--------------+-----------------------+\n",
      "\n",
      "None\n"
     ]
    }
   ],
   "source": [
    "df_orc12 = spark.read.format(\"orc\").load(\"/proiectdm1105/interogari/query12_results.orc\")\n",
    "# Afisare continut.\n",
    "print(df_orc12.show(truncate=False))"
   ]
  }
 ],
 "metadata": {
  "kernelspec": {
   "display_name": "Python 3 (ipykernel)",
   "language": "python",
   "name": "python3"
  },
  "language_info": {
   "codemirror_mode": {
    "name": "ipython",
    "version": 3
   },
   "file_extension": ".py",
   "mimetype": "text/x-python",
   "name": "python",
   "nbconvert_exporter": "python",
   "pygments_lexer": "ipython3",
   "version": "3.10.12"
  }
 },
 "nbformat": 4,
 "nbformat_minor": 5
}
